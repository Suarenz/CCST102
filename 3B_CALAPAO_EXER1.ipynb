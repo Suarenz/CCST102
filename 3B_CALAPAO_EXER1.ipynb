{
  "nbformat": 4,
  "nbformat_minor": 0,
  "metadata": {
    "colab": {
      "provenance": [],
      "toc_visible": true
    },
    "kernelspec": {
      "name": "python3",
      "display_name": "Python 3"
    },
    "language_info": {
      "name": "python"
    }
  },
  "cells": [
    {
      "cell_type": "markdown",
      "source": [
        "# Data Preprocessing\n"
      ],
      "metadata": {
        "id": "htwVil6vgKzj"
      }
    },
    {
      "cell_type": "code",
      "execution_count": 10,
      "metadata": {
        "id": "DS8Px1NDcjMp"
      },
      "outputs": [],
      "source": [
        "import pandas as pd\n",
        "import numpy as np\n",
        "from sklearn.model_selection import train_test_split\n",
        "import matplotlib.pyplot as plt\n",
        "from sklearn.preprocessing import MinMaxScaler\n"
      ]
    },
    {
      "cell_type": "code",
      "source": [
        "!pip install scikit-learn\n"
      ],
      "metadata": {
        "colab": {
          "base_uri": "https://localhost:8080/"
        },
        "id": "NMtmYUW-dy-L",
        "outputId": "69ceed00-d0fd-40bb-8dbe-c542a1a857b9"
      },
      "execution_count": 7,
      "outputs": [
        {
          "output_type": "stream",
          "name": "stdout",
          "text": [
            "Requirement already satisfied: scikit-learn in /usr/local/lib/python3.10/dist-packages (1.3.2)\n",
            "Requirement already satisfied: numpy<2.0,>=1.17.3 in /usr/local/lib/python3.10/dist-packages (from scikit-learn) (1.26.4)\n",
            "Requirement already satisfied: scipy>=1.5.0 in /usr/local/lib/python3.10/dist-packages (from scikit-learn) (1.13.1)\n",
            "Requirement already satisfied: joblib>=1.1.1 in /usr/local/lib/python3.10/dist-packages (from scikit-learn) (1.4.2)\n",
            "Requirement already satisfied: threadpoolctl>=2.0.0 in /usr/local/lib/python3.10/dist-packages (from scikit-learn) (3.5.0)\n"
          ]
        }
      ]
    },
    {
      "cell_type": "code",
      "source": [
        "data = pd.read_csv('datasets_house_prices.csv')"
      ],
      "metadata": {
        "id": "muMTu-j0eYX5"
      },
      "execution_count": 11,
      "outputs": []
    },
    {
      "cell_type": "code",
      "source": [
        "print(data.head())"
      ],
      "metadata": {
        "colab": {
          "base_uri": "https://localhost:8080/"
        },
        "id": "SyecKJrEen5a",
        "outputId": "607844cc-c521-4f0b-aea6-16eb2d19ccdc"
      },
      "execution_count": 12,
      "outputs": [
        {
          "output_type": "stream",
          "name": "stdout",
          "text": [
            "   Size (sqft)  Bedrooms  Age  Proximity to Downtown (miles)         Price\n",
            "0         3974         1   97                       2.032719  1.162771e+06\n",
            "1         1660         5   88                      23.695207  4.900021e+05\n",
            "2         2094         4   49                       6.440232  6.400737e+05\n",
            "3         1930         2   28                       8.129315  5.637881e+05\n",
            "4         1895         1   56                       5.358837  5.651289e+05\n"
          ]
        }
      ]
    },
    {
      "cell_type": "code",
      "source": [
        "print(data.isnull().sum())"
      ],
      "metadata": {
        "colab": {
          "base_uri": "https://localhost:8080/"
        },
        "id": "D_-TxHSLetZ6",
        "outputId": "73c0bdf9-f7f5-4676-9950-0711486ac6cb"
      },
      "execution_count": 13,
      "outputs": [
        {
          "output_type": "stream",
          "name": "stdout",
          "text": [
            "Size (sqft)                      0\n",
            "Bedrooms                         0\n",
            "Age                              0\n",
            "Proximity to Downtown (miles)    0\n",
            "Price                            0\n",
            "dtype: int64\n"
          ]
        }
      ]
    },
    {
      "cell_type": "code",
      "source": [
        "data = data.dropna()"
      ],
      "metadata": {
        "id": "dzYxYDJYeuwS"
      },
      "execution_count": 14,
      "outputs": []
    },
    {
      "cell_type": "code",
      "source": [
        "features = data\n",
        "target = data['Price']"
      ],
      "metadata": {
        "id": "QQlPNGK_e1X5"
      },
      "execution_count": 19,
      "outputs": []
    },
    {
      "cell_type": "code",
      "source": [
        "scaler = MinMaxScaler()\n",
        "normalized_features = pd.DataFrame(scaler.fit_transform(features), columns=features.columns)"
      ],
      "metadata": {
        "id": "AQ8zdR-NgDNq"
      },
      "execution_count": 20,
      "outputs": []
    },
    {
      "cell_type": "markdown",
      "source": [
        "# Model Implementation\n"
      ],
      "metadata": {
        "id": "yV-rkjsagYVB"
      }
    },
    {
      "cell_type": "code",
      "source": [
        "def compute_coefficients(X, y):\n",
        "  X = np.c_[np.ones(X.shape[0]), X]\n",
        "\n",
        "  theta = np.linalg.inv(X.T @ X) @ X.T @ y\n",
        "  return theta\n",
        "\n"
      ],
      "metadata": {
        "id": "3E-Qw8H1gcep"
      },
      "execution_count": 21,
      "outputs": []
    },
    {
      "cell_type": "code",
      "source": [
        "X = normalized_features.values\n",
        "y = target.values"
      ],
      "metadata": {
        "id": "apdmIZpRgwYB"
      },
      "execution_count": 22,
      "outputs": []
    },
    {
      "cell_type": "code",
      "source": [
        "theta = compute_coefficients(X, y)\n",
        "print(f\"Coefficients: {theta}\")"
      ],
      "metadata": {
        "colab": {
          "base_uri": "https://localhost:8080/"
        },
        "id": "iJXv2BksgzmR",
        "outputId": "e5598752-ee0f-4223-b5f1-416554d15f2e"
      },
      "execution_count": 23,
      "outputs": [
        {
          "output_type": "stream",
          "name": "stdout",
          "text": [
            "Coefficients: [ 2.15945544e+05  4.09840140e-07  1.16360752e-08 -6.88305590e-09\n",
            " -2.01944204e-08  9.96404147e+05]\n"
          ]
        }
      ]
    },
    {
      "cell_type": "code",
      "source": [
        "def predict(X, theta):\n",
        "  X = np.c_[np.ones(X.shape[0]), X]\n",
        "  return X @ theta"
      ],
      "metadata": {
        "id": "8EuQ2DG-g335"
      },
      "execution_count": 24,
      "outputs": []
    },
    {
      "cell_type": "markdown",
      "source": [
        "# Model Training"
      ],
      "metadata": {
        "id": "eGMgi2_9g_2h"
      }
    },
    {
      "cell_type": "code",
      "source": [
        "X_train, X_test, y_train, y_test = train_test_split(X, y, test_size=0.2, random_state=42)"
      ],
      "metadata": {
        "id": "yCG-2I2ThBm5"
      },
      "execution_count": 25,
      "outputs": []
    },
    {
      "cell_type": "code",
      "source": [
        "theta = compute_coefficients(X_train, y_train)\n",
        "y_train_pred = predict(X_train, theta)"
      ],
      "metadata": {
        "id": "q-Kqn9F9hJb5"
      },
      "execution_count": 26,
      "outputs": []
    },
    {
      "cell_type": "code",
      "source": [
        "def mean_squared_error(y_true, y_pred):\n",
        "  return np.mean((y_true - y_pred) ** 2)\n",
        "\n",
        "mse_train = mean_squared_error(y_train, y_train_pred)\n",
        "print(f\"MSE on training data: {mse_train}\")"
      ],
      "metadata": {
        "colab": {
          "base_uri": "https://localhost:8080/"
        },
        "id": "Khn5vzsfhNqJ",
        "outputId": "b173d665-83d4-4502-a998-2f6a54d217de"
      },
      "execution_count": 27,
      "outputs": [
        {
          "output_type": "stream",
          "name": "stdout",
          "text": [
            "MSE on training data: 7.524833590087316e-14\n"
          ]
        }
      ]
    },
    {
      "cell_type": "markdown",
      "source": [
        "# Model Evaluation"
      ],
      "metadata": {
        "id": "9UDTpkMdhVZR"
      }
    },
    {
      "cell_type": "code",
      "source": [
        "y_test_pred = predict(X_test, theta)\n",
        "\n",
        "mse_test = mean_squared_error(y_test, y_test_pred)\n",
        "print(f\"MSE on test data: {mse_test}\")"
      ],
      "metadata": {
        "colab": {
          "base_uri": "https://localhost:8080/"
        },
        "id": "jfuJh0LOhXPp",
        "outputId": "d309ad58-4705-4049-9b0a-c37676f4acd7"
      },
      "execution_count": 29,
      "outputs": [
        {
          "output_type": "stream",
          "name": "stdout",
          "text": [
            "MSE on test data: 6.764876264026676e-14\n"
          ]
        }
      ]
    },
    {
      "cell_type": "code",
      "source": [
        "plt.scatter(X_test[:, 0], y_test, color='black', label='Actual Prices')\n",
        "plt.plot(X_test[:, 0], y_test_pred, color='pink', linewidth=2, label='Regression Line')\n",
        "plt.xlabel('Size (Normalized)')\n",
        "plt.ylabel('Price')\n",
        "plt.title('House Prices Prediction')\n",
        "plt.legend()\n",
        "plt.show()"
      ],
      "metadata": {
        "colab": {
          "base_uri": "https://localhost:8080/",
          "height": 472
        },
        "id": "981gPV9ZhlDR",
        "outputId": "8cb659b2-50bf-45c5-b078-61ee95157ba2"
      },
      "execution_count": 31,
      "outputs": [
        {
          "output_type": "display_data",
          "data": {
            "text/plain": [
              "<Figure size 640x480 with 1 Axes>"
            ],
            "image/png": "[encoded data removed]"
          },
          "metadata": {}
        }
      ]
    },
    {
      "cell_type": "markdown",
      "source": [
        "# Report"
      ],
      "metadata": {
        "id": "PLH3OF8biR64"
      }
    },
    {
      "cell_type": "code",
      "source": [
        "report = \"\"\"\n",
        "The goal of this project is to construct a simple linear regression model from scratch which will help us in predicting the house price on features like square feet, no. of bedrooms and age of home.\n",
        "In this report a detailed implementation of how we preprocess the data, applied linear regression method to it and train as well evaluate our trained model will be explained followed by results.\n",
        "\n",
        "Data Pre-processing:\n",
        "Data manipulation and analytical tasks were carried out after loading the dataset into a Pandas DataFrame. The isnull() was used to find the missing values in the dataset. sum() method. We found no missing values,\n",
        " so there is no need of imputation and deleting the rows. The features (Size, Bedrooms & Age) are of different scales so as to bring such on same scale we normalize all the feature.\n",
        "\n",
        "Model Implementation:\n",
        "The linear regression model was implemented from scratch using the simple Linear Regression equation in order to compute, how best can be our values of those coefficients.\n",
        "\n",
        "Model Training and Evaluation:\n",
        "A testbed was used by splitting the dataset into training and testing. I made use of the training set to compute coefficients using least squares and trained my model with this data.\n",
        "\n",
        "Challengesl:\n",
        "In small datasets, the model can memorize the training whole dataset which will cause bad generalization in test.\n",
        "Solution:\n",
        "If the model was simply being overfit to one part of dataset, we could use cross-validation techniques in further iterations.\n",
        "That would make the validation on multiple subsets and prevent from terrible generalization performances like this case.\n",
        "\n",
        "Conclusion:\n",
        "The linear regression model built from scratch has also been able to predict house price using the input features. The model worked really well on both Training and testing data,\n",
        "So it can be taken as learning is good without Overfitting. This one was necessary in order to arrive to precise results as not every feature had the same scale.\n",
        "\"\"\"\n",
        "print(report)\n"
      ],
      "metadata": {
        "colab": {
          "base_uri": "https://localhost:8080/"
        },
        "id": "OZHbOT1givwA",
        "outputId": "88e22512-4b7a-432b-cb0f-2411e49ce3df"
      },
      "execution_count": 37,
      "outputs": [
        {
          "output_type": "stream",
          "name": "stdout",
          "text": [
            "\n",
            "The goal of this project is to construct a simple linear regression model from scratch which will help us in predicting the house price on features like square feet, no. of bedrooms and age of home. \n",
            "In this report a detailed implementation of how we preprocess the data, applied linear regression method to it and train as well evaluate our trained model will be explained followed by results.\n",
            "\n",
            "Data Pre-processing:\n",
            "Data manipulation and analytical tasks were carried out after loading the dataset into a Pandas DataFrame. The isnull() was used to find the missing values in the dataset. sum() method. We found no missing values,\n",
            " so there is no need of imputation and deleting the rows. The features (Size, Bedrooms & Age) are of different scales so as to bring such on same scale we normalize all the feature.\n",
            "\n",
            "Model Implementation:\n",
            "The linear regression model was implemented from scratch using the simple Linear Regression equation in order to compute, how best can be our values of those coefficients.\n",
            "\n",
            "Model Training and Evaluation:\n",
            "A testbed was used by splitting the dataset into training and testing. I made use of the training set to compute coefficients using least squares and trained my model with this data.\n",
            "\n",
            "Challengesl:\n",
            "In small datasets, the model can memorize the training whole dataset which will cause bad generalization in test.\n",
            "Solution:\n",
            "If the model was simply being overfit to one part of dataset, we could use cross-validation techniques in further iterations. \n",
            "That would make the validation on multiple subsets and prevent from terrible generalization performances like this case.\n",
            "\n",
            "Conclusion:\n",
            "The linear regression model built from scratch has also been able to predict house price using the input features. The model worked really well on both Training and testing data,\n",
            "So it can be taken as learning is good without Overfitting. This one was necessary in order to arrive to precise results as not every feature had the same scale.\n",
            "\n"
          ]
        }
      ]
    },
    {
      "cell_type": "code",
      "source": [],
      "metadata": {
        "id": "CGS4aVwBixxa"
      },
      "execution_count": null,
      "outputs": []
    }
  ]
}